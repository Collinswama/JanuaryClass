{
 "cells": [
  {
   "cell_type": "markdown",
   "metadata": {},
   "source": [
    "*Question One:* _List Comprehension_"
   ]
  },
  {
   "cell_type": "code",
   "execution_count": 4,
   "metadata": {},
   "outputs": [
    {
     "name": "stdout",
     "output_type": "stream",
     "text": [
      "1\n",
      "9\n",
      "25\n",
      "49\n",
      "81\n",
      "121\n",
      "169\n",
      "225\n",
      "289\n",
      "361\n"
     ]
    }
   ],
   "source": [
    "# Write a python program that outputs the squares of odd numbers from range of 1 to 20\n",
    "\n",
    "# get all odd numbers between 1 and 20\n",
    "for x in range (1, 20):\n",
    "    if not x %2 == 0:\n",
    "        print(x**2)\n",
    "        \n"
   ]
  },
  {
   "cell_type": "markdown",
   "metadata": {},
   "source": [
    "*Question Two:* _Integers_"
   ]
  },
  {
   "cell_type": "code",
   "execution_count": null,
   "metadata": {},
   "outputs": [],
   "source": [
    "# Write a program to check whether the given integer is a multiple of 5_\n",
    "# get the number\n",
    "x = int(input())\n",
    "# multiples of five, if divided by five will have zero as the reaminder\n",
    "if x % 5 == 0:\n",
    "    print(\"interger is a multiple of five\")"
   ]
  },
  {
   "cell_type": "markdown",
   "metadata": {},
   "source": [
    "*Question Three*: _If Statement_"
   ]
  },
  {
   "cell_type": "code",
   "execution_count": null,
   "metadata": {},
   "outputs": [],
   "source": [
    "# Write a program python program to check whether the given integer is a prime number or not\n",
    "# prime number = can only be divided by one and themselves\n",
    "x = int(input())\n",
    "if x % 1 and x % x == 0:\n",
    "    print(\"it's prime\")\n",
    "else:\n",
    "    print(\"it's not prime\")\n",
    "# and logic ensures it is a true prime number since, all numbers are a mulitiple of one    \n"
   ]
  },
  {
   "cell_type": "markdown",
   "metadata": {},
   "source": [
    "*Question Four:* _User-defined Functions_"
   ]
  },
  {
   "cell_type": "code",
   "execution_count": 1,
   "metadata": {},
   "outputs": [],
   "source": [
    "# Write a program to implement a calculator to do basic operations (+,-,*,/)\n",
    "x = int(input())\n",
    "y = int(input())\n",
    "\n",
    "# addition\n",
    "def add:\n",
    "    print(x + y)\n",
    "# subtrcation\n",
    "def subtract:\n",
    "    print(x - y)\n",
    "# multiplication\n",
    "def multiplication:\n",
    "    print(x * y)\n",
    "#division\n",
    "def divid:\n",
    "    print(x / y)\n",
    "\n"
   ]
  },
  {
   "cell_type": "markdown",
   "metadata": {},
   "source": [
    "*Question Five:* _Dictionaries & For Loop_"
   ]
  },
  {
   "cell_type": "code",
   "execution_count": 6,
   "metadata": {},
   "outputs": [
    {
     "name": "stdout",
     "output_type": "stream",
     "text": [
      "Merc Scuderia\n",
      "Trauri Scuderia\n",
      "Maclaren Scuderia\n",
      "Aston Scuderia\n",
      "Scuderia Scuderia\n"
     ]
    }
   ],
   "source": [
    "# Create a simple dictionary and write a program to print all the items in your dictionary\n",
    "f1_2022 = {\"Merc\": \"Russel\", \"Trauri\": \"Gasly\", \"Maclaren\": \"Norris\", \"Aston\": \"Vettel\", \"Scuderia\": \"Sainz\"}\n",
    "for elements in f1_2022:\n",
    "    print(elements + f1_2022.get(\"Merc \", \" Scuderia\"))\n",
    "    "
   ]
  },
  {
   "cell_type": "code",
   "execution_count": null,
   "metadata": {},
   "outputs": [],
   "source": []
  },
  {
   "cell_type": "code",
   "execution_count": null,
   "metadata": {},
   "outputs": [],
   "source": []
  }
 ],
 "metadata": {
  "interpreter": {
   "hash": "1e4af7d8341c13d568efc1f8500c9e0239c4d10084c4659a417b8b188748b437"
  },
  "kernelspec": {
   "display_name": "Python 3 (ipykernel)",
   "language": "python",
   "name": "python3"
  },
  "language_info": {
   "codemirror_mode": {
    "name": "ipython",
    "version": 3
   },
   "file_extension": ".py",
   "mimetype": "text/x-python",
   "name": "python",
   "nbconvert_exporter": "python",
   "pygments_lexer": "ipython3",
   "version": "3.9.7"
  }
 },
 "nbformat": 4,
 "nbformat_minor": 2
}
